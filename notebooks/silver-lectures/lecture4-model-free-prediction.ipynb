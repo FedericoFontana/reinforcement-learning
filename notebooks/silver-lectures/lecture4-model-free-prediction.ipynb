{
 "cells": [
  {
   "cell_type": "markdown",
   "metadata": {},
   "source": [
    "In this notebook you can find the implementation of all algorithms described in the 4th lecture of David Silver. Comment and notes are personal note and consideration in addition to the theory that can already be found in the slides. I'm not going to repeat the theory here."
   ]
  },
  {
   "cell_type": "markdown",
   "metadata": {
    "toc": true
   },
   "source": [
    "<h1>Table of Contents<span class=\"tocSkip\"></span></h1>\n",
    "<div class=\"toc\"><ul class=\"toc-item\"><li><span><a href=\"#Introduction\" data-toc-modified-id=\"Introduction-1\"><span class=\"toc-item-num\">1&nbsp;&nbsp;</span>Introduction</a></span></li><li><span><a href=\"#Monte-Carlo-learning\" data-toc-modified-id=\"Monte-Carlo-learning-2\"><span class=\"toc-item-num\">2&nbsp;&nbsp;</span>Monte Carlo learning</a></span><ul class=\"toc-item\"><li><span><a href=\"#First-Visit-Monte-Carlo-Policy-Evaluation\" data-toc-modified-id=\"First-Visit-Monte-Carlo-Policy-Evaluation-2.1\"><span class=\"toc-item-num\">2.1&nbsp;&nbsp;</span>First-Visit Monte-Carlo Policy Evaluation</a></span></li><li><span><a href=\"#Every-Visit-Monte-Carlo-Policy-Evaluation\" data-toc-modified-id=\"Every-Visit-Monte-Carlo-Policy-Evaluation-2.2\"><span class=\"toc-item-num\">2.2&nbsp;&nbsp;</span>Every-Visit Monte-Carlo Policy Evaluation</a></span></li></ul></li><li><span><a href=\"#Temporal-Difference-learning\" data-toc-modified-id=\"Temporal-Difference-learning-3\"><span class=\"toc-item-num\">3&nbsp;&nbsp;</span>Temporal Difference learning</a></span></li><li><span><a href=\"#TD(λ)\" data-toc-modified-id=\"TD(λ)-4\"><span class=\"toc-item-num\">4&nbsp;&nbsp;</span>TD(λ)</a></span><ul class=\"toc-item\"><li><span><a href=\"#Forward-view-TD(λ)\" data-toc-modified-id=\"Forward-view-TD(λ)-4.1\"><span class=\"toc-item-num\">4.1&nbsp;&nbsp;</span>Forward view TD(λ)</a></span></li><li><span><a href=\"#Backward-view-TD(λ)\" data-toc-modified-id=\"Backward-view-TD(λ)-4.2\"><span class=\"toc-item-num\">4.2&nbsp;&nbsp;</span>Backward view TD(λ)</a></span></li></ul></li></ul></div>"
   ]
  },
  {
   "cell_type": "code",
   "execution_count": 18,
   "metadata": {},
   "outputs": [],
   "source": [
    "%matplotlib inline\n",
    "from collections import defaultdict\n",
    "from typing import Callable, Any\n",
    "import numpy as np\n",
    "import pandas as pd\n",
    "import gym\n",
    "import time\n",
    "import cufflinks\n",
    "env = gym.make('FrozenLake-v0')"
   ]
  },
  {
   "cell_type": "code",
   "execution_count": 19,
   "metadata": {},
   "outputs": [
    {
     "name": "stdout",
     "output_type": "stream",
     "text": [
      "\n",
      "\u001b[41mS\u001b[0mFFF\n",
      "FHFH\n",
      "FFFH\n",
      "HFFG\n",
      "  (Left)\n",
      "\u001b[41mS\u001b[0mFFF\n",
      "FHFH\n",
      "FFFH\n",
      "HFFG\n",
      "  (Up)\n",
      "\u001b[41mS\u001b[0mFFF\n",
      "FHFH\n",
      "FFFH\n",
      "HFFG\n",
      "  (Down)\n",
      "\u001b[41mS\u001b[0mFFF\n",
      "FHFH\n",
      "FFFH\n",
      "HFFG\n",
      "  (Left)\n",
      "\u001b[41mS\u001b[0mFFF\n",
      "FHFH\n",
      "FFFH\n",
      "HFFG\n",
      "  (Up)\n",
      "S\u001b[41mF\u001b[0mFF\n",
      "FHFH\n",
      "FFFH\n",
      "HFFG\n",
      "  (Up)\n",
      "S\u001b[41mF\u001b[0mFF\n",
      "FHFH\n",
      "FFFH\n",
      "HFFG\n",
      "  (Up)\n",
      "\u001b[41mS\u001b[0mFFF\n",
      "FHFH\n",
      "FFFH\n",
      "HFFG\n",
      "  (Up)\n",
      "\u001b[41mS\u001b[0mFFF\n",
      "FHFH\n",
      "FFFH\n",
      "HFFG\n",
      "  (Down)\n",
      "SFFF\n",
      "\u001b[41mF\u001b[0mHFH\n",
      "FFFH\n",
      "HFFG\n",
      "  (Up)\n",
      "SFFF\n",
      "F\u001b[41mH\u001b[0mFH\n",
      "FFFH\n",
      "HFFG\n"
     ]
    }
   ],
   "source": [
    "obs = env.reset()\n",
    "env.render()\n",
    "done = False\n",
    "while not done:\n",
    "    action = env.action_space.sample()\n",
    "    obs, reward, done, info = env.step(action)\n",
    "    env.render()"
   ]
  },
  {
   "cell_type": "markdown",
   "metadata": {},
   "source": [
    "# Introduction\n",
    "In model-free prediction we solve the task of estimating the state-value or action-value look-up table without assuming any knowledge about the transition matrix $\\mathcal{S}$ and the rewards dynamics $\\mathcal{R}$ of the Markov Decision Process (MDP) $<\\mathcal{S}, \\mathcal{A}, \\mathcal{P}, \\mathcal{R}, \\lambda>$. This makes the algorithms applicable in the real world, were we generally don't know the dynamics of the environment."
   ]
  },
  {
   "cell_type": "markdown",
   "metadata": {},
   "source": [
    "# Monte Carlo learning"
   ]
  },
  {
   "cell_type": "markdown",
   "metadata": {},
   "source": [
    "Monte Carlo (MC) learns from complete finite episodes (no bootstrapping) from the simplest possible idea: sample episodes and calculate the empirical mean of state-value or action-values. By definition $v_π(s) \\doteq \\mathbb{E}_π [G_t | S_t = s]$. MC replace the expectation with an average."
   ]
  },
  {
   "cell_type": "code",
   "execution_count": 22,
   "metadata": {},
   "outputs": [],
   "source": [
    "def policy_random(env: gym.Env, obs: Any):\n",
    "    return env.action_space.sample()\n",
    "\n",
    "\n",
    "def generate_trajectory(env: gym.Env, policy: Callable, seed: int=0):\n",
    "    env.seed(seed)\n",
    "    obs = env.reset()\n",
    "    done = False\n",
    "    states, actions, rewards = [obs], [None], [None]\n",
    "    while not done:\n",
    "        action = policy(env, obs)\n",
    "        obs, reward, done, info = env.step(action)\n",
    "        states.append(obs)\n",
    "        actions.append(action)\n",
    "        rewards.append(reward)\n",
    "    return states, actions, rewards\n",
    "\n",
    "\n",
    "def monte_carlo_leaning(env: gym.Env, policy: Callable, n_trajectories: int=1000, is_every_visit_mc: bool=False,\n",
    "                        gamma: int=1, alpha: float=None):\n",
    "    \"\"\"Set alpha is the problem is not stationary (to slowly forget the past with EWMA), empirical mean if none.\"\"\"\n",
    "    N = defaultdict(int)\n",
    "    V = defaultdict(float)\n",
    "    V_history = dict()\n",
    "    for nr_episode in range(n_trajectories):\n",
    "        states, actions, rewards = generate_trajectory(env, policy, seed=nr_episode)\n",
    "        nr_steps = len(states) - 1\n",
    "        for t in range(nr_steps):\n",
    "            S_t = states[t]\n",
    "            is_first_visited = S_t not in states[:t]\n",
    "            if is_every_visit_mc or is_first_visited:\n",
    "                N[S_t] += 1\n",
    "                coeff = 1 / N[S_t] if alpha is None else alpha\n",
    "                G_t = sum(r * gamma ** i for i, r in enumerate(rewards[t+1:]))\n",
    "                target = G_t\n",
    "                V[S_t] = V[S_t] + coeff * (target - V[S_t])  # running mean\n",
    "                \n",
    "        # Update state-value look-up table.\n",
    "        V_history[nr_episode] = V.copy()\n",
    "\n",
    "    return pd.DataFrame(V_history).T"
   ]
  },
  {
   "cell_type": "markdown",
   "metadata": {},
   "source": [
    "## First-Visit Monte-Carlo Policy Evaluation"
   ]
  },
  {
   "cell_type": "code",
   "execution_count": 4,
   "metadata": {},
   "outputs": [
    {
     "name": "stdout",
     "output_type": "stream",
     "text": [
      "State-value look-up table:\n"
     ]
    },
    {
     "data": {
      "text/html": [
       "<div>\n",
       "<style scoped>\n",
       "    .dataframe tbody tr th:only-of-type {\n",
       "        vertical-align: middle;\n",
       "    }\n",
       "\n",
       "    .dataframe tbody tr th {\n",
       "        vertical-align: top;\n",
       "    }\n",
       "\n",
       "    .dataframe thead th {\n",
       "        text-align: right;\n",
       "    }\n",
       "</style>\n",
       "<table border=\"1\" class=\"dataframe\">\n",
       "  <thead>\n",
       "    <tr style=\"text-align: right;\">\n",
       "      <th></th>\n",
       "      <th>0</th>\n",
       "      <th>1</th>\n",
       "      <th>2</th>\n",
       "      <th>3</th>\n",
       "    </tr>\n",
       "  </thead>\n",
       "  <tbody>\n",
       "    <tr>\n",
       "      <th>0</th>\n",
       "      <td>0.0127</td>\n",
       "      <td>0.0102706</td>\n",
       "      <td>0.0189996</td>\n",
       "      <td>0.0121107</td>\n",
       "    </tr>\n",
       "    <tr>\n",
       "      <th>1</th>\n",
       "      <td>0.0142583</td>\n",
       "      <td></td>\n",
       "      <td>0.0383171</td>\n",
       "      <td></td>\n",
       "    </tr>\n",
       "    <tr>\n",
       "      <th>2</th>\n",
       "      <td>0.0326047</td>\n",
       "      <td>0.0824129</td>\n",
       "      <td>0.13229</td>\n",
       "      <td></td>\n",
       "    </tr>\n",
       "    <tr>\n",
       "      <th>3</th>\n",
       "      <td></td>\n",
       "      <td>0.162353</td>\n",
       "      <td>0.415033</td>\n",
       "      <td></td>\n",
       "    </tr>\n",
       "  </tbody>\n",
       "</table>\n",
       "</div>"
      ],
      "text/plain": [
       "           0          1          2          3\n",
       "0     0.0127  0.0102706  0.0189996  0.0121107\n",
       "1  0.0142583             0.0383171           \n",
       "2  0.0326047  0.0824129    0.13229           \n",
       "3              0.162353   0.415033           "
      ]
     },
     "execution_count": 4,
     "metadata": {},
     "output_type": "execute_result"
    },
    {
     "data": {
      "image/png": "[encoded data removed]",
      "text/plain": [
       "<Figure size 432x288 with 1 Axes>"
      ]
     },
     "metadata": {
      "needs_background": "light"
     },
     "output_type": "display_data"
    }
   ],
   "source": [
    "V_history = monte_carlo_leaning(env, policy_random, n_trajectories=10000, is_every_visit_mc=False,\n",
    "                                gamma=1, alpha=None)\n",
    "V_history.plot()\n",
    "print('State-value look-up table:')\n",
    "pd.DataFrame(V_history.iloc[-1].combine_first(pd.Series('', index=range(16))).values.reshape(4, 4)).round(4)"
   ]
  },
  {
   "cell_type": "markdown",
   "metadata": {},
   "source": [
    "## Every-Visit Monte-Carlo Policy Evaluation"
   ]
  },
  {
   "cell_type": "code",
   "execution_count": 5,
   "metadata": {},
   "outputs": [
    {
     "name": "stdout",
     "output_type": "stream",
     "text": [
      "State-value look-up table:\n"
     ]
    },
    {
     "data": {
      "text/html": [
       "<div>\n",
       "<style scoped>\n",
       "    .dataframe tbody tr th:only-of-type {\n",
       "        vertical-align: middle;\n",
       "    }\n",
       "\n",
       "    .dataframe tbody tr th {\n",
       "        vertical-align: top;\n",
       "    }\n",
       "\n",
       "    .dataframe thead th {\n",
       "        text-align: right;\n",
       "    }\n",
       "</style>\n",
       "<table border=\"1\" class=\"dataframe\">\n",
       "  <thead>\n",
       "    <tr style=\"text-align: right;\">\n",
       "      <th></th>\n",
       "      <th>0</th>\n",
       "      <th>1</th>\n",
       "      <th>2</th>\n",
       "      <th>3</th>\n",
       "    </tr>\n",
       "  </thead>\n",
       "  <tbody>\n",
       "    <tr>\n",
       "      <th>0</th>\n",
       "      <td>0.0154</td>\n",
       "      <td>0.0126665</td>\n",
       "      <td>0.0226386</td>\n",
       "      <td>0.00923361</td>\n",
       "    </tr>\n",
       "    <tr>\n",
       "      <th>1</th>\n",
       "      <td>0.0176218</td>\n",
       "      <td></td>\n",
       "      <td>0.0435763</td>\n",
       "      <td></td>\n",
       "    </tr>\n",
       "    <tr>\n",
       "      <th>2</th>\n",
       "      <td>0.0389709</td>\n",
       "      <td>0.101164</td>\n",
       "      <td>0.161335</td>\n",
       "      <td></td>\n",
       "    </tr>\n",
       "    <tr>\n",
       "      <th>3</th>\n",
       "      <td></td>\n",
       "      <td>0.185366</td>\n",
       "      <td>0.472393</td>\n",
       "      <td></td>\n",
       "    </tr>\n",
       "  </tbody>\n",
       "</table>\n",
       "</div>"
      ],
      "text/plain": [
       "           0          1          2           3\n",
       "0     0.0154  0.0126665  0.0226386  0.00923361\n",
       "1  0.0176218             0.0435763            \n",
       "2  0.0389709   0.101164   0.161335            \n",
       "3              0.185366   0.472393            "
      ]
     },
     "execution_count": 5,
     "metadata": {},
     "output_type": "execute_result"
    },
    {
     "data": {
      "image/png": "[encoded data removed]",
      "text/plain": [
       "<Figure size 432x288 with 1 Axes>"
      ]
     },
     "metadata": {
      "needs_background": "light"
     },
     "output_type": "display_data"
    }
   ],
   "source": [
    "V_history = monte_carlo_leaning(env, policy_random, n_trajectories=10000, is_every_visit_mc=False,\n",
    "                                gamma=1, alpha=None)\n",
    "V_history.plot()\n",
    "print('State-value look-up table:')\n",
    "pd.DataFrame(V_history.iloc[-1].combine_first(pd.Series('', index=range(16))).values.reshape(4, 4)).round(4)"
   ]
  },
  {
   "cell_type": "markdown",
   "metadata": {},
   "source": [
    "# Temporal Difference learning\n",
    "TD learns from incomplete episodes, by bootstrapping"
   ]
  },
  {
   "cell_type": "code",
   "execution_count": 6,
   "metadata": {},
   "outputs": [],
   "source": [
    "def temporal_difference_learning(env: gym.Env, policy: Callable, n_trajectories: int=1000,\n",
    "                                 gamma: int=1, alpha: float=None):\n",
    "    \"\"\"Set alpha is the problem is not stationary (to slowly forget the past with EWMA), empirical mean if none.\"\"\"\n",
    "    N = defaultdict(int)\n",
    "    V = defaultdict(float)\n",
    "    V_history = dict()\n",
    "    for nr_episode in range(n_trajectories):\n",
    "        obs = env.reset()\n",
    "        done = False\n",
    "        while not done:\n",
    "            # Interact with the environment.\n",
    "            obs_old = obs\n",
    "            action = policy(env, obs)\n",
    "            obs, reward, done, info = env.step(action)\n",
    "            \n",
    "            # Update state-value function.\n",
    "            N[obs_old] += 1\n",
    "            target = reward + gamma * V[obs]\n",
    "            error = target - V[obs_old]  # delta_t\n",
    "            coeff = 1 / N[obs_old] if alpha is None else alpha\n",
    "            V[obs_old] += coeff * error\n",
    "        \n",
    "        # Update state-value look-up table.\n",
    "        V_history[nr_episode] = V.copy()\n",
    "    return pd.DataFrame(V_history).T"
   ]
  },
  {
   "cell_type": "code",
   "execution_count": 7,
   "metadata": {
    "scrolled": false
   },
   "outputs": [
    {
     "name": "stdout",
     "output_type": "stream",
     "text": [
      "State-value look-up table:\n"
     ]
    },
    {
     "data": {
      "text/html": [
       "<div>\n",
       "<style scoped>\n",
       "    .dataframe tbody tr th:only-of-type {\n",
       "        vertical-align: middle;\n",
       "    }\n",
       "\n",
       "    .dataframe tbody tr th {\n",
       "        vertical-align: top;\n",
       "    }\n",
       "\n",
       "    .dataframe thead th {\n",
       "        text-align: right;\n",
       "    }\n",
       "</style>\n",
       "<table border=\"1\" class=\"dataframe\">\n",
       "  <thead>\n",
       "    <tr style=\"text-align: right;\">\n",
       "      <th></th>\n",
       "      <th>0</th>\n",
       "      <th>1</th>\n",
       "      <th>2</th>\n",
       "      <th>3</th>\n",
       "    </tr>\n",
       "  </thead>\n",
       "  <tbody>\n",
       "    <tr>\n",
       "      <th>0</th>\n",
       "      <td>0.00262127</td>\n",
       "      <td>0.00368819</td>\n",
       "      <td>0.0114917</td>\n",
       "      <td>0.00445542</td>\n",
       "    </tr>\n",
       "    <tr>\n",
       "      <th>1</th>\n",
       "      <td>0.00561273</td>\n",
       "      <td>0</td>\n",
       "      <td>0.0309065</td>\n",
       "      <td>0</td>\n",
       "    </tr>\n",
       "    <tr>\n",
       "      <th>2</th>\n",
       "      <td>0.0196775</td>\n",
       "      <td>0.0667255</td>\n",
       "      <td>0.119155</td>\n",
       "      <td>0</td>\n",
       "    </tr>\n",
       "    <tr>\n",
       "      <th>3</th>\n",
       "      <td>0</td>\n",
       "      <td>0.151735</td>\n",
       "      <td>0.416878</td>\n",
       "      <td>0</td>\n",
       "    </tr>\n",
       "  </tbody>\n",
       "</table>\n",
       "</div>"
      ],
      "text/plain": [
       "            0           1          2           3\n",
       "0  0.00262127  0.00368819  0.0114917  0.00445542\n",
       "1  0.00561273           0  0.0309065           0\n",
       "2   0.0196775   0.0667255   0.119155           0\n",
       "3           0    0.151735   0.416878           0"
      ]
     },
     "execution_count": 7,
     "metadata": {},
     "output_type": "execute_result"
    },
    {
     "data": {
      "image/png": "[encoded data removed]",
      "text/plain": [
       "<Figure size 432x288 with 1 Axes>"
      ]
     },
     "metadata": {
      "needs_background": "light"
     },
     "output_type": "display_data"
    }
   ],
   "source": [
    "V_history = temporal_difference_learning(env, policy_random, n_trajectories=10000,\n",
    "                                         gamma=1, alpha=None)\n",
    "V_history.plot()\n",
    "print('State-value look-up table:')\n",
    "pd.DataFrame(V_history.iloc[-1].combine_first(pd.Series('', index=range(16))).values.reshape(4, 4)).round(4)"
   ]
  },
  {
   "cell_type": "markdown",
   "metadata": {},
   "source": [
    "# TD(λ)"
   ]
  },
  {
   "cell_type": "markdown",
   "metadata": {},
   "source": [
    "\\begin{equation}\n",
    "G_t^{(n)} = R_{t+1} + \\gamma R_{t+2} + ... + \\gamma^{n-1} R_{t+n} + \\gamma^n V(S_{t+n})\n",
    "\\end{equation}\n",
    "\n",
    "\\begin{equation}\n",
    "G_t^{\\lambda} = \\sum_{n=1}^{\\inf} (1 - \\lambda) \\lambda^{n-1} G_t^{(n)}\n",
    "\\end{equation}\n",
    "\n",
    "For finite episodes:\n",
    "\n",
    "\\begin{equation}\n",
    "G_t^{\\lambda} = (1 - \\lambda)  \\sum_{n=1}^{T-t-1} \\lambda^{n-1} G_t^{n} +  \\lambda^{T-t-1} R_t\n",
    "\\end{equation}"
   ]
  },
  {
   "cell_type": "markdown",
   "metadata": {},
   "source": [
    "## Forward view TD(λ)\n",
    "Like MC, can only be computed from complete episodes\n",
    "http://www.incompleteideas.net/book/ebook/node74.html"
   ]
  },
  {
   "cell_type": "markdown",
   "metadata": {},
   "source": [
    "\\begin{equation}\n",
    "V(S_t) = V(S_t) + \\alpha (G_{t}^{\\lambda} - V(S_t))\n",
    "\\end{equation}"
   ]
  },
  {
   "cell_type": "code",
   "execution_count": 37,
   "metadata": {},
   "outputs": [],
   "source": [
    "def forward_td_lambda(env: gym.Env, policy: Callable, n_trajectories: int=1000, gamma: int=1,\n",
    "                      alpha: float=None, lambda_: float=0.95):\n",
    "    \"\"\"Need to see a full episode.\n",
    "    Set alpha is the problem is not stationary (to slowly forget the past with EWMA), empirical mean if none.\n",
    "    If lambda=0, plain TD. If lambda=1, plain MC.\"\"\"\n",
    "    N = defaultdict(int)\n",
    "    V = defaultdict(float)\n",
    "    V_history = dict()\n",
    "    for nr_episode in range(n_trajectories):\n",
    "        states, actions, rewards = generate_trajectory(env, policy, seed=nr_episode)\n",
    "        nr_steps = len(states) - 1  # -1 because you don't take an action in the terminal state.\n",
    "        for t in range(nr_steps):\n",
    "            \n",
    "            # Calculate G_lambda_t, representing the target for TD(λ).\n",
    "            # See: http://www.incompleteideas.net/book/ebook/node74.html\n",
    "            G_lambda_t = lambda_**(nr_steps - t) * rewards[t+1]\n",
    "            for n in range(1, nr_steps - t + 1):  # TODO: +1?\n",
    "                # n (def): number of returns used to calculate G_t before bootstrapping with V.\n",
    "                bootstrap = (gamma**n) * V[states[t+n]]\n",
    "                G_n_t = sum((gamma**i) * rewards[t+1+i] for i in range(n)) + bootstrap\n",
    "                G_lambda_t += (1 - lambda_) * lambda_**(n-1) * G_n_t\n",
    "                \n",
    "            # This should actually be a unit test in a proper software.\n",
    "            sum_of_weigths = lambda_**(nr_steps - t) + sum((1 - lambda_) * lambda_**(n-1) for n in range(1, nr_steps - t + 1))\n",
    "            if abs(1 - sum_of_weigths) > 0.0005:\n",
    "                raise ValueError(\"Sum of weights is {}\".format(sum_of_weigths))\n",
    "            \n",
    "            # Update state-value look-up table.\n",
    "            S_t = states[t]\n",
    "            target = G_lambda_t\n",
    "            N[S_t] += 1\n",
    "            coeff = 1 / N[S_t] if alpha is None else alpha\n",
    "            V[S_t] = V[S_t] + coeff * (target - V[S_t])  # running mean\n",
    "                \n",
    "        # Update state-value look-up table.\n",
    "        V_history[nr_episode] = V.copy()\n",
    "\n",
    "    return pd.DataFrame(V_history).T"
   ]
  },
  {
   "cell_type": "code",
   "execution_count": 44,
   "metadata": {},
   "outputs": [
    {
     "name": "stdout",
     "output_type": "stream",
     "text": [
      "State-value look-up table:\n"
     ]
    },
    {
     "data": {
      "text/html": [
       "<div>\n",
       "<style scoped>\n",
       "    .dataframe tbody tr th:only-of-type {\n",
       "        vertical-align: middle;\n",
       "    }\n",
       "\n",
       "    .dataframe tbody tr th {\n",
       "        vertical-align: top;\n",
       "    }\n",
       "\n",
       "    .dataframe thead th {\n",
       "        text-align: right;\n",
       "    }\n",
       "</style>\n",
       "<table border=\"1\" class=\"dataframe\">\n",
       "  <thead>\n",
       "    <tr style=\"text-align: right;\">\n",
       "      <th></th>\n",
       "      <th>0</th>\n",
       "      <th>1</th>\n",
       "      <th>2</th>\n",
       "      <th>3</th>\n",
       "    </tr>\n",
       "  </thead>\n",
       "  <tbody>\n",
       "    <tr>\n",
       "      <th>0</th>\n",
       "      <td>0.00626489</td>\n",
       "      <td>0.00590104</td>\n",
       "      <td>0.0135148</td>\n",
       "      <td>0.00613577</td>\n",
       "    </tr>\n",
       "    <tr>\n",
       "      <th>1</th>\n",
       "      <td>0.00940995</td>\n",
       "      <td>0</td>\n",
       "      <td>0.0308338</td>\n",
       "      <td>0</td>\n",
       "    </tr>\n",
       "    <tr>\n",
       "      <th>2</th>\n",
       "      <td>0.0248125</td>\n",
       "      <td>0.0705221</td>\n",
       "      <td>0.107984</td>\n",
       "      <td>0</td>\n",
       "    </tr>\n",
       "    <tr>\n",
       "      <th>3</th>\n",
       "      <td>0</td>\n",
       "      <td>0.139046</td>\n",
       "      <td>0.414255</td>\n",
       "      <td>0</td>\n",
       "    </tr>\n",
       "  </tbody>\n",
       "</table>\n",
       "</div>"
      ],
      "text/plain": [
       "            0           1          2           3\n",
       "0  0.00626489  0.00590104  0.0135148  0.00613577\n",
       "1  0.00940995           0  0.0308338           0\n",
       "2   0.0248125   0.0705221   0.107984           0\n",
       "3           0    0.139046   0.414255           0"
      ]
     },
     "execution_count": 44,
     "metadata": {},
     "output_type": "execute_result"
    },
    {
     "data": {
      "image/png": "[encoded data removed]",
      "text/plain": [
       "<Figure size 432x288 with 1 Axes>"
      ]
     },
     "metadata": {
      "needs_background": "light"
     },
     "output_type": "display_data"
    }
   ],
   "source": [
    "V_history = forward_td_lambda(env, policy_random, n_trajectories=10000,\n",
    "                              gamma=1, alpha=None, lambda_=0.5)\n",
    "V_history.plot()\n",
    "print('State-value look-up table:')\n",
    "pd.DataFrame(V_history.iloc[-1].combine_first(pd.Series('', index=range(16))).values.reshape(4, 4)).round(4)"
   ]
  },
  {
   "cell_type": "markdown",
   "metadata": {},
   "source": [
    "## Backward view TD(λ)\n",
    "Update online, every step, from incomplete sequences. Uses elegibility trace."
   ]
  },
  {
   "cell_type": "code",
   "execution_count": 45,
   "metadata": {},
   "outputs": [],
   "source": [
    "def backward_td_learning(env: gym.Env, policy: Callable, n_trajectories: int=1000,\n",
    "                                 gamma: int=1, alpha: float=None, lambda_: float=0.95):\n",
    "    \"\"\"Set alpha is the problem is not stationary (to slowly forget the past with EWMA), empirical mean if none.\"\"\"\n",
    "    E = defaultdict(float)  # Elegibility trace\n",
    "    N = defaultdict(int)\n",
    "    V = defaultdict(float)\n",
    "    V_history = dict()\n",
    "    for nr_episode in range(n_trajectories):\n",
    "        obs = env.reset()\n",
    "        done = False\n",
    "        while not done:\n",
    "            # Interact with the environment.\n",
    "            obs_old = obs\n",
    "            action = policy(env, obs)\n",
    "            obs, reward, done, info = env.step(action)\n",
    "            \n",
    "            \n",
    "            # Update state-value function.\n",
    "            E[obs_old] += 1\n",
    "            N[obs_old] += 1\n",
    "            upate_all_states = True\n",
    "            if upate_all_states:\n",
    "                target = reward + gamma * V[obs]\n",
    "                delta = target - V[obs_old]\n",
    "                for state in E:\n",
    "                    coeff = 1 / N[state] if alpha is None else alpha\n",
    "                    V[state] += coeff * E[state] * delta\n",
    "            else:\n",
    "                N[obs_old] += 1\n",
    "                target = reward + gamma * V[obs]\n",
    "                coeff = 1 / N[obs_old] if alpha is None else alpha\n",
    "                V[obs_old] += coeff * E[obs_old] * (target - V[obs_old])\n",
    "            \n",
    "            for state in E:\n",
    "                E[state] *= gamma * lambda_\n",
    "        \n",
    "        # Update state-value look-up table.\n",
    "        V_history[nr_episode] = V.copy()\n",
    "    return pd.DataFrame(V_history).T"
   ]
  },
  {
   "cell_type": "code",
   "execution_count": 46,
   "metadata": {},
   "outputs": [
    {
     "name": "stdout",
     "output_type": "stream",
     "text": [
      "State-value look-up table:\n"
     ]
    },
    {
     "data": {
      "text/html": [
       "<div>\n",
       "<style scoped>\n",
       "    .dataframe tbody tr th:only-of-type {\n",
       "        vertical-align: middle;\n",
       "    }\n",
       "\n",
       "    .dataframe tbody tr th {\n",
       "        vertical-align: top;\n",
       "    }\n",
       "\n",
       "    .dataframe thead th {\n",
       "        text-align: right;\n",
       "    }\n",
       "</style>\n",
       "<table border=\"1\" class=\"dataframe\">\n",
       "  <thead>\n",
       "    <tr style=\"text-align: right;\">\n",
       "      <th></th>\n",
       "      <th>0</th>\n",
       "      <th>1</th>\n",
       "      <th>2</th>\n",
       "      <th>3</th>\n",
       "    </tr>\n",
       "  </thead>\n",
       "  <tbody>\n",
       "    <tr>\n",
       "      <th>0</th>\n",
       "      <td>0.0078809</td>\n",
       "      <td>0.00862937</td>\n",
       "      <td>0.0191202</td>\n",
       "      <td>0.0090835</td>\n",
       "    </tr>\n",
       "    <tr>\n",
       "      <th>1</th>\n",
       "      <td>0.0117058</td>\n",
       "      <td>0</td>\n",
       "      <td>0.0406214</td>\n",
       "      <td>0</td>\n",
       "    </tr>\n",
       "    <tr>\n",
       "      <th>2</th>\n",
       "      <td>0.0310686</td>\n",
       "      <td>0.0902709</td>\n",
       "      <td>0.14516</td>\n",
       "      <td>0</td>\n",
       "    </tr>\n",
       "    <tr>\n",
       "      <th>3</th>\n",
       "      <td>0</td>\n",
       "      <td>0.189781</td>\n",
       "      <td>0.451927</td>\n",
       "      <td>0</td>\n",
       "    </tr>\n",
       "  </tbody>\n",
       "</table>\n",
       "</div>"
      ],
      "text/plain": [
       "           0           1          2          3\n",
       "0  0.0078809  0.00862937  0.0191202  0.0090835\n",
       "1  0.0117058           0  0.0406214          0\n",
       "2  0.0310686   0.0902709    0.14516          0\n",
       "3          0    0.189781   0.451927          0"
      ]
     },
     "execution_count": 46,
     "metadata": {},
     "output_type": "execute_result"
    },
    {
     "data": {
      "image/png": "[encoded data removed]",
      "text/plain": [
       "<Figure size 432x288 with 1 Axes>"
      ]
     },
     "metadata": {
      "needs_background": "light"
     },
     "output_type": "display_data"
    }
   ],
   "source": [
    "V_history = backward_td_learning(env, policy_random, n_trajectories=10000,\n",
    "                                 gamma=1, alpha=None, lambda_=0.5)\n",
    "V_history.plot()\n",
    "print('State-value look-up table:')\n",
    "pd.DataFrame(V_history.iloc[-1].combine_first(pd.Series('', index=range(16))).values.reshape(4, 4)).round(4)"
   ]
  },
  {
   "cell_type": "code",
   "execution_count": null,
   "metadata": {},
   "outputs": [],
   "source": []
  }
 ],
 "metadata": {
  "kernelspec": {
   "display_name": "Python 3",
   "language": "python",
   "name": "python3"
  },
  "language_info": {
   "codemirror_mode": {
    "name": "ipython",
    "version": 3
   },
   "file_extension": ".py",
   "mimetype": "text/x-python",
   "name": "python",
   "nbconvert_exporter": "python",
   "pygments_lexer": "ipython3",
   "version": "3.6.7"
  },
  "toc": {
   "base_numbering": 1,
   "nav_menu": {},
   "number_sections": true,
   "sideBar": true,
   "skip_h1_title": false,
   "title_cell": "Table of Contents",
   "title_sidebar": "Contents",
   "toc_cell": true,
   "toc_position": {},
   "toc_section_display": true,
   "toc_window_display": true
  }
 },
 "nbformat": 4,
 "nbformat_minor": 2
}
